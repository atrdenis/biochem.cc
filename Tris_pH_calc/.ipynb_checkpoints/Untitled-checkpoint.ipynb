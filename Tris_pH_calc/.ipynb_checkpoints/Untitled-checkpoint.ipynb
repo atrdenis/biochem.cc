{
 "cells": [
  {
   "cell_type": "code",
   "execution_count": 2,
   "metadata": {},
   "outputs": [],
   "source": [
    "import cgi\n",
    "import string\n",
    "import numpy as np"
   ]
  },
  {
   "cell_type": "code",
   "execution_count": 105,
   "metadata": {},
   "outputs": [],
   "source": [
    "pH = 7.51\n",
    "molarity = 1\n",
    "volume = 0.05"
   ]
  },
  {
   "cell_type": "code",
   "execution_count": 4,
   "metadata": {},
   "outputs": [],
   "source": [
    "pH_Tris_25 = np.array([[7.2, 0.67, 7.02],\n",
    "[7.3, 0.8, 6.85],\n",
    "[7.4, 0.97, 6.61],\n",
    "[7.5, 1.18, 6.35],\n",
    "[7.6, 1.39, 6.06],\n",
    "[7.7, 1.66, 5.72],\n",
    "[7.8, 1.97, 5.32],\n",
    "[7.9, 2.3, 4.88],\n",
    "[8, 2.65, 4.44],\n",
    "[8.1, 2.97, 4.02],\n",
    "[8.2, 3.34, 3.54],\n",
    "[8.3, 3.7, 3.07],\n",
    "[8.4, 4.03, 2.64],\n",
    "[8.5, 4.36, 2.21],\n",
    "[8.6, 4.65, 1.83],\n",
    "[8.7, 4.9, 1.5],\n",
    "[8.8, 5.13, 1.23],\n",
    "[8.9, 5.32, 0.96],\n",
    "[9, 5.47, 0.76]])"
   ]
  },
  {
   "cell_type": "code",
   "execution_count": 106,
   "metadata": {
    "scrolled": false
   },
   "outputs": [
    {
     "name": "stdout",
     "output_type": "stream",
     "text": [
      "1.2009999999999996 6.321000000000001\n"
     ]
    }
   ],
   "source": [
    "pH_above_indexes = np.where(pH_Tris_25[:,0] >= pH)\n",
    "pH_above = pH_Tris_25[pH_above_indexes[0][0],0]\n",
    "pH_below = pH_Tris_25[pH_above_indexes[0][0]-1,0]\n",
    "TrisBase_mass = (pH_above-pH)/(pH_above-pH_below)*pH_Tris_25[pH_above_indexes[0][0]-1,1]+\\\n",
    "(pH-pH_below)/(pH_above-pH_below)*pH_Tris_25[pH_above_indexes[0][0],1]\n",
    "TrisHCl_mass = (pH_above-pH)/(pH_above-pH_below)*pH_Tris_25[pH_above_indexes[0][0]-1,2]+\\\n",
    "(pH-pH_below)/(pH_above-pH_below)*pH_Tris_25[pH_above_indexes[0][0],2]\n",
    "TrisBase_mass_end = TrisBase_mass/0.05*molarity*volume\n",
    "TrisHCl_mass_end = TrisHCl_mass/0.05*molarity*volume\n",
    "print(TrisBase_mass_end, TrisHCl_mass_end)"
   ]
  },
  {
   "cell_type": "code",
   "execution_count": null,
   "metadata": {},
   "outputs": [],
   "source": []
  },
  {
   "cell_type": "code",
   "execution_count": null,
   "metadata": {},
   "outputs": [],
   "source": []
  }
 ],
 "metadata": {
  "kernelspec": {
   "display_name": "Python 3",
   "language": "python",
   "name": "python3"
  },
  "language_info": {
   "codemirror_mode": {
    "name": "ipython",
    "version": 3
   },
   "file_extension": ".py",
   "mimetype": "text/x-python",
   "name": "python",
   "nbconvert_exporter": "python",
   "pygments_lexer": "ipython3",
   "version": "3.8.0"
  }
 },
 "nbformat": 4,
 "nbformat_minor": 4
}
